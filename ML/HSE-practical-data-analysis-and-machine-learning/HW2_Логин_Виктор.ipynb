{
 "cells": [
  {
   "cell_type": "markdown",
   "metadata": {},
   "source": [
    "# Математика для машинного обучения\n",
    "## Домашнее задание №2\n",
    "\n",
    "_Автор задания: Илья Щуров_\n",
    "\n",
    "Подготовлено для программы «[Практический анализ данных и машинное обучение](https://cs.hse.ru/dpo/bigml)» (ФКН НИУ ВШЭ)."
   ]
  },
  {
   "cell_type": "markdown",
   "metadata": {},
   "source": [
    "Задание выполнил(а): *Логин Виктор Павлович*"
   ]
  },
  {
   "cell_type": "markdown",
   "metadata": {},
   "source": [
    "## Статистика\n",
    "### Описательные статистики\n",
    "Для выборки $x_1, x_2, \\ldots, x_n$ определены следующие величины (они часто называются *описательными статистиками*):\n",
    "\n",
    "1. Выборочное среднее: $$\\bar x = \\frac{x_1 + x_2 + \\ldots + x_n}{n}.$$\n",
    "2. Выборочная дисперсия: $$\\sigma^2 = \\frac{(x_1-\\bar x)^2 + (x_2 - \\bar x)^2 + \\ldots + (x_n - \\bar x)^2}{n}.$$\n",
    "3. Исправленная выборочная дисперсия: $$\\sigma_+^2 = \\frac{(x_1-\\bar x)^2 + (x_2 - \\bar x)^2 + \\ldots + (x_n - \\bar x)^2}{n - 1}.$$\n",
    "4. Выборочное стандартное отклонение: квадратный корень из выборочной дисперсии (обозначается $\\sigma$ или $SD$).\n",
    "5. Исправленное выборочное стандартное отклонение: квадратный корень из исправленной выборочной дисперсии (обозначается $\\sigma_+$ или $SD_+$ или ещё как-нибудь).\n",
    "6. [Медиана](https://ru.wikipedia.org/wiki/%D0%9C%D0%B5%D0%B4%D0%B8%D0%B0%D0%BD%D0%B0_(%D1%81%D1%82%D0%B0%D1%82%D0%B8%D1%81%D1%82%D0%B8%D0%BA%D0%B0%29)."
   ]
  },
  {
   "cell_type": "markdown",
   "metadata": {},
   "source": [
    "### Задача 1\n",
    "Для выборки $\\{1, 10, 2, 15, 100\\}$ найти все характеристики, перечисленные выше.\n",
    "\n",
    "Подсказка: можно использовать функции `np.mean`, `np.var`, `np.std`, `np.median`. Для вычисления исправленной выборочной дисперсии и исправленного выборочного стандартного отклонения необходимо соответствующим функциям передать параметр `ddof=1`."
   ]
  },
  {
   "cell_type": "code",
   "execution_count": 17,
   "metadata": {},
   "outputs": [
    {
     "name": "stdout",
     "output_type": "stream",
     "text": [
      "mean 25.6\n",
      "var 1410.64\n",
      "var 1763.3\n",
      "std 37.5584877225\n",
      "std 41.9916658398\n",
      "median 10.0\n"
     ]
    }
   ],
   "source": [
    "import numpy as np\n",
    "\n",
    "M = [ 1, 10, 2, 15, 100 ]\n",
    "\n",
    "\n",
    "# 1. Выборочное среднее\n",
    "print('mean', np.mean(M))\n",
    "\n",
    "# 2. Выборочная дисперсия\n",
    "print('var', np.var(M))\n",
    "\n",
    "# 3. Исправленная выборочная дисперсия\n",
    "print('var', np.var(M, ddof=1))\n",
    "\n",
    "# 4. Выборочное стандартное отклонение\n",
    "print('std', np.std(M))\n",
    "\n",
    "# 5. Исправленное выборочное стандартное отклонение\n",
    "print('std', np.std(M, ddof=1))\n",
    "\n",
    "# 6. Медиана\n",
    "print('median', np.median(M))\n"
   ]
  },
  {
   "cell_type": "markdown",
   "metadata": {},
   "source": [
    "### Задача 2\n",
    "\n",
    "Кракозяблики бывают двух типов — левые и правые. Для решения задачи распознавания типа кракозяблика по его фотографии раньше использовали алгоритм *QZD*. Он давал точность (accuracy) в 67%. Новый алгоритм *EQZD* был запущен 10 раз на разных датасетах и показал следующие accuracy: 69%, 63%, 70%, 72%, 63%, 73%, 72%, 70%, 70%, 61%. Правда ли, что алгоритм *EQZD* лучше алгоритма *QZD* с точки зрения показателя accuracy? Используйте t-тест для проверки этого утверждения. Сформулируйте нулевую гипотезу и альтернативу. Для вычисления p-value используйте функцию `ttest_1samp` из пакета `scipy.stats`. Проинтерпретируйте полученное p-value."
   ]
  },
  {
   "cell_type": "code",
   "execution_count": 45,
   "metadata": {},
   "outputs": [
    {
     "data": {
      "text/plain": [
       "Ttest_1sampResult(statistic=49.975609756097576, pvalue=2.5802218291887323e-12)"
      ]
     },
     "execution_count": 45,
     "metadata": {},
     "output_type": "execute_result"
    }
   ],
   "source": [
    "# H0 - алгоритм EQZD не лучше QZD если <= 67%\n",
    "# H1 - алгоритм EQZD лучше QZD если больше 67%\n",
    "\n",
    "from scipy import stats\n",
    "\n",
    "h = 0.67\n",
    "rvs = [0.69, 0.63, 0.7, 0.72, 0.63, 0.73, 0.72, 0.7, 0.7, 0.61]\n",
    "\n",
    "stats.ttest_1samp(rvs, 0)"
   ]
  },
  {
   "cell_type": "markdown",
   "metadata": {},
   "source": [
    "`p-value` > 5% - "
   ]
  },
  {
   "cell_type": "code",
   "execution_count": 36,
   "metadata": {},
   "outputs": [
    {
     "data": {
      "image/png": "[encoded data removed]",
      "text/plain": [
       "<matplotlib.figure.Figure at 0x7f7ebc9330f0>"
      ]
     },
     "metadata": {},
     "output_type": "display_data"
    }
   ],
   "source": [
    "import matplotlib.pyplot as plt\n",
    "plt.hist(rvs, normed=True, color='red');\n",
    "plt.hist(h, normed=True, color='blue');"
   ]
  },
  {
   "cell_type": "markdown",
   "metadata": {},
   "source": [
    "### Задача 3\n",
    "Будем проводить следующий эксперимент: сгенерируем две различные независимые выборки размером `n = 5` из равномерного распределения на отрезке $[0, 1]$. С помощью теста Стьюдента проверим гипотезу о том, что эти две выборки были получены из распределений с различными средними ($H_0\\colon m_1 = m_2$, $H_1\\colon m_1 ≠ m_2$) на уровне значимости 5%.\n",
    "\n",
    "Повторим этот эксперимент 10000 раз. Сколько раз мы будем совершать ошибку первого рода, то есть ошибочно отвергать нулевую гипотезу? Что будет, если изменить уровень значимости (например, использовать уровень значимости 1%)? Что будет, если увеличить размер выборки до `n = 20`?\n",
    "\n",
    "Для генерирования выборок можно использовать `uniform.rvs`, для двухвыборочного теста Стьюдента — `ttest_ind` (обе функции из пакета `scipy.stats`). Последняя функция возвращает пару, состоящую из значения t-статистики и p-value."
   ]
  },
  {
   "cell_type": "code",
   "execution_count": 8,
   "metadata": {
    "collapsed": true
   },
   "outputs": [],
   "source": [
    "# впишите решение сюда"
   ]
  },
  {
   "cell_type": "markdown",
   "metadata": {},
   "source": [
    "### Задача 4\n",
    "Напомним, что для выборки $x=\\{x_1, x_2, \\ldots, x_n\\}$, сгенерированной из некоторой генеральной совокупности $X$, $Z$-статистика вычисляется так:\n",
    "\n",
    "$$\n",
    "Z = \\frac{\\bar x - EX}{\\sigma_X} \\sqrt{n},\n",
    "$$\n",
    "где $EX$ — среднее по генеральной совокупности (или, что то же самое, математическое ожидание случайной величины $X$), $\\sigma_X$ — стандартное отклонение по генеральной совокупности (или, что то же самое, стандартное отклонение случайной величины $X$), $n$ — число элементов в выборке, $\\bar x = \\frac{x_1 + \\ldots + x_n}{n}$ — выборочное среднее.\n",
    "\n",
    "Для статистических тестов использовать $Z$-статистику сложно, посольку мы обычно не знаем стандартного отклонения по генеральной совокупности $\\sigma_X$. Зато мы можем вычислить исправленное выборочное стандартное отклонение $\\sigma_+(x)$. Оно будет приближать $\\sigma_X$. Если заменить в формуле для $Z$-статистики $\\sigma_X$ на $\\sigma_+(x)$, получится формула для t-статистики:\n",
    "\n",
    "$$\n",
    "t = \\frac{\\bar x - EX}{\\sigma_+(x)} \\sqrt{n},\n",
    "$$\n",
    "\n",
    "Распределение $t$-статистики не является нормальным (по крайней мере, при не слишком больших $n$), но также является известным.\n",
    "\n",
    "Вычислите $t$-статистику для задачи 2 по указанной выше формуле. (В качестве $EX$ необходимо подставить значение в 67%, оно берётся из нулевой гипотезы.) Убедитесь, что оно совпадает со значением, которое выдаёт функция `ttest_1samp`."
   ]
  },
  {
   "cell_type": "code",
   "execution_count": 18,
   "metadata": {
    "collapsed": true
   },
   "outputs": [],
   "source": [
    "# впишите решение сюда"
   ]
  }
 ],
 "metadata": {
  "kernelspec": {
   "display_name": "Python 3",
   "language": "python",
   "name": "python3"
  },
  "language_info": {
   "codemirror_mode": {
    "name": "ipython",
    "version": 3
   },
   "file_extension": ".py",
   "mimetype": "text/x-python",
   "name": "python",
   "nbconvert_exporter": "python",
   "pygments_lexer": "ipython3",
   "version": "3.6.1"
  }
 },
 "nbformat": 4,
 "nbformat_minor": 2
}
