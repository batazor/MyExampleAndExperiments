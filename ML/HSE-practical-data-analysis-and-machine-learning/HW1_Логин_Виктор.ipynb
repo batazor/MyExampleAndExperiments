{
 "cells": [
  {
   "cell_type": "markdown",
   "metadata": {},
   "source": [
    "## Домашнее задание №1\n",
    "\n",
    "«Практический анализ данных и машинное обучение» \n",
    "\n",
    "НИУ ВШЭ, Факультет компьютерных наук\n",
    "\n",
    "*Срок сдачи: 14 сентября, 13:00*"
   ]
  },
  {
   "cell_type": "markdown",
   "metadata": {},
   "source": [
    "Задание выполнил(а): *(впишите сюда фамилию и имя)*"
   ]
  },
  {
   "cell_type": "markdown",
   "metadata": {},
   "source": [
    "### Задача 1"
   ]
  },
  {
   "cell_type": "markdown",
   "metadata": {},
   "source": [
    "Правильную монетку подбросили 3 раза. "
   ]
  },
  {
   "cell_type": "markdown",
   "metadata": {},
   "source": [
    "1. Перечислите все элементарные исходы этого случайного эксперимента.\n",
    "2. Событие $A = \\text{«за три броска выпало ровно два орла»}$, $B = \\text{«за три броска выпало ровно две решки»}$. Являются ли события $A$ и $B$ несовместными? Дополняющими? Обоснуйте свой ответ."
   ]
  },
  {
   "cell_type": "markdown",
   "metadata": {},
   "source": [
    "### Задача 2"
   ]
  },
  {
   "cell_type": "markdown",
   "metadata": {},
   "source": [
    "Игральную кость подбросили два раза. Даны события $C$ и $D$.\n",
    "\n",
    "$C = \\text{«в первый раз выпало 2 очка»}$. \n",
    "\n",
    "$D = \\text{«разность между числом очков, выпавшим при втором броске, и числом очков, выпавшим при первом броске неотрицательна»}$. \n",
    "\n",
    "1. Перечислите элементарные исходы, благоприятствующие событию $C$. Перечислите элементарные исходы, благоприятствующие событию $D$.\n",
    "2. Перечислите элементарные исходы, соответствующие пересечению событий $C \\cap D$. Перечислите элементарные исходы, соответствующие объединению событий $C \\cup D$. \n",
    "3. Найдите вероятности $P(C)$, $P(D)$, $P(C \\cap D)$, $P(C \\cup D)$.  \n",
    "4. Найдите условную вероятность $P(C|D)$. Являются ли события $C$ и $D$ независимыми?"
   ]
  },
  {
   "cell_type": "markdown",
   "metadata": {},
   "source": [
    "** Немного о машинном обучении. ** \n",
    "\n",
    "*Задача классификации в машинном обучении*.\n",
    "\n",
    "Есть данные: набор объектов, обладающих некоторыми характеристиками, про которые известно, к каким классам они относятся. Задача: на основе имеющихся данных создать классификатор (алгоритм, модель), который сможет отнести произвольный объект к определенному классу, опираясь на характеристики этого объекта.   \n",
    "\n",
    "Например, нас интересует, каким пользователям можно рекомендовать фильм $X$. У нас есть база данных по 10000 пользователей, которая содержит следующую информацию: пол пользователя, какие жанры фильмов он предпочитает, сколько фильмов такого же жанра как и $X$ он посмотрел, смотрел ли фильмы с теми же актерами в главных ролях, и, наконец, отметил ли он фильм $X$ как понравившийся или нет. Выбираем подходящий нам метод классификации и на основе имеющихся данных обучаем классификатор, который будет определять, понравится ли фильм $X$ пользователю или нет (1 — понравится, 0 — не понравится). В результате на вход готовому классификатору мы сможем подать характеристики нового пользователя (*женщина, предпочитает комедии, смотрела 2 фильма такого же жанра, что и $X$, не смотрела фильмов с теми же актерами в главных ролях*), а классификатор выдаст нам метку 0 — фильм ей не понравится, рекомендовать его не стоит.\n",
    "\n",
    "*Оценка качества классификации.*\n",
    "\n",
    "Для оценки качества классификации в машинном обучении используются два важных показателя: точность (*precision*) и полнота (*recall*). В случае бинарной классификации (когда необходимо отнести объекты к одному из двух классов, условно «положительному» (1) или «отрицательному» (0), **точность** можно определить как долю объектов, которые действительно являются положительными, среди тех объектов, которые классификатор отнес к положительному классу, а **полноту** — как долю объектов, которые классификатор отнес к положительному классу, среди тех объектов, которые действительно являются положительными.\n",
    "\n",
    "Можно заметить, что определения точности и полноты можно переформулировать в терминах условных вероятностей. Именно это и пригодится в задаче 3."
   ]
  },
  {
   "cell_type": "markdown",
   "metadata": {},
   "source": [
    "### Задача 3\n",
    "\n",
    "Группа исследователей, занимающихся анализом тональности, разработала свой метод классификации отзывов о фильмах — получила классификатор, который позволяет определить, является ли отзыв о фильме положительным или отрицательным (нейтральные отзывы не рассматриваются). Чтобы оценить качество метода классификации, исследователи взяли 1000 отзывов о фильмах, о которых известно, являются ли они положительными или отрицательными (метки присваивались экспертом), которые не были задействованы при обучении классификатора, определили их тональность с помощью созданного классификатора и проверили, насколько метки, присвоенные классификатором совпадают с метками, присвоенными экспертом.\n",
    "\n",
    "Известно следующее: среди 1000 отобранных отзывов 520 положительных и 480 отрицательных. Полнота полученного метода классификации равна 0.7. Доля отзывов, которые классификатор пометил как положительные, среди отзывов, которые на самом деле отрицательные, равна 0.2. Определите точность разработанного исследователями метода классификации. \n",
    "\n",
    "**Указание.** Вероятность в данной задаче следует определять как относительную частоту (долю). Например, вероятность того, что отзыв является положительным, равна не 1/2 (либо положительный, либо отрицательный), а доле положительных отзывов среди 1000 отобранных отзывов.  \n",
    "\n",
    "В задаче нужно использовать формулу Байеса. В качестве гипотез можно взять события «отзыв является положительным» ($H_1$) и «отзыв является отрицательным» ($H_2$). \n",
    "\n",
    "\n",
    "\n",
    "**Подсказка.** Если не совсем понятно, каким образом точность и полноту можно представить в виде условных вероятностей, вот пример того, как можно вычислить полноту, используя вероятности:\n",
    "\n",
    "$$recall = \\dfrac{P(\\text{«отзыв является положительным»} \\cap \\text{«отзыв помечен классификатором как положительный»})}{P(\\text{«отзыв является положительным»})}.$$\n",
    "\n",
    "Осталось соотнести эту формулу с формулой условной вероятности и проделать то же самое для точности."
   ]
  },
  {
   "cell_type": "markdown",
   "metadata": {},
   "source": [
    "### Задача 4\n",
    "\n",
    "Случайная величина $Y$ принимает три значения: $-5$, $2$, $4$. Известно, что значение $2$ случайная величина принимает с вероятностью 0.4, а остальные значения она принимает с равными вероятностями. Найдите математическое ожидание $E(Y)$ и дисперсию $D(Y)$."
   ]
  },
  {
   "cell_type": "markdown",
   "metadata": {},
   "source": [
    "### Задача 5\n",
    "\n",
    "Известно, что случайные величины $X$ и $Y$ независимы. $E(X)=2$, $D(X)=4$, $E(Y)=0$, $D(Y)=1$.\n",
    "\n",
    "1. Найдите математическое ожидание и дисперсию случайной величины $U = X + 3Y$.\n",
    "1. Найдите математическое ожидание и дисперсию случайной величины $Q = 2X - Y + 5$."
   ]
  },
  {
   "cell_type": "markdown",
   "metadata": {},
   "source": [
    "### Задача 6\n",
    "\n",
    "График плотности распределения непрерывной случайной величины $X$ выглядит следующим образом:"
   ]
  },
  {
   "cell_type": "code",
   "execution_count": 14,
   "metadata": {},
   "outputs": [
    {
     "data": {
      "text/plain": [
       "[<matplotlib.lines.Line2D at 0x7efd34e03cf8>]"
      ]
     },
     "execution_count": 14,
     "metadata": {},
     "output_type": "execute_result"
    },
    {
     "data": {
      "image/png": "[encoded data removed]",
      "text/plain": [
       "<matplotlib.figure.Figure at 0x7efd34e036d8>"
      ]
     },
     "metadata": {},
     "output_type": "display_data"
    }
   ],
   "source": [
    "import matplotlib.pyplot as plt\n",
    "%matplotlib inline\n",
    "\n",
    "plt.xlim(-1, 4)\n",
    "plt.ylim(0, 0.6)\n",
    "plt.grid()\n",
    "plt.plot(*zip([-1, 0], [0, 0], [1, 0.5], [2, 0.5], [3, 0], [4, 0]), lw = 1.5)\n"
   ]
  },
  {
   "cell_type": "markdown",
   "metadata": {},
   "source": [
    "1. Найдите вероятность $P(X=1)$.\n",
    "2. Найдите вероятность $P(0\\leq X \\leq 2)$.\n",
    "3. Найдите вероятность $P(0\\leq X \\leq 3)$."
   ]
  }
 ],
 "metadata": {
  "kernelspec": {
   "display_name": "Python 3",
   "language": "python",
   "name": "python3"
  },
  "language_info": {
   "codemirror_mode": {
    "name": "ipython",
    "version": 3
   },
   "file_extension": ".py",
   "mimetype": "text/x-python",
   "name": "python",
   "nbconvert_exporter": "python",
   "pygments_lexer": "ipython3",
   "version": "3.5.1+"
  }
 },
 "nbformat": 4,
 "nbformat_minor": 2
}
